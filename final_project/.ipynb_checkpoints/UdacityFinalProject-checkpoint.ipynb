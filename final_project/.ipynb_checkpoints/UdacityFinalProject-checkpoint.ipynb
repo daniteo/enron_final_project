{
 "cells": [
  {
   "cell_type": "markdown",
   "metadata": {},
   "source": [
    "# Projeto Final - Detecção de Fraude via Emails da Enron"
   ]
  },
  {
   "cell_type": "markdown",
   "metadata": {},
   "source": [
    "## Introdução\n",
    "\n",
    "Este é o projeto final das aulas de Introdução ao Aprendizado de Máquinas do curso de _Data Science for Business_ da\n",
    "Udacity. Para este trabalho iremos analisar um conjunto de dados de email e informações financeiras da Enron.\n",
    "\n",
    "A Enron foi uma empresa americana fundada em 1985 com foco na exploração de gás natural e produção de energia de diversos tipos. Em 2001 a empresa é parte de uma das maiores fraudes da história. A partir da revelação do escandalo da Enron, a empresa tem sucessivas quedas em suas ações e pede concordata deste mesmo ano.\n",
    "\n",
    "O principal objetivo deste projeto é desenvolver um algoritimo que detecte pessoas envolvidas no escandalo da Enron baseado no conjunto de dados disponíveis de funcionários de alto escalão e diretores da Enron."
   ]
  },
  {
   "cell_type": "code",
   "execution_count": 1,
   "metadata": {},
   "outputs": [
    {
     "name": "stderr",
     "output_type": "stream",
     "text": [
      "/Users/daniteo/miniconda3/envs/udacity2/lib/python2.7/site-packages/sklearn/cross_validation.py:41: DeprecationWarning: This module was deprecated in version 0.18 in favor of the model_selection module into which all the refactored classes and functions are moved. Also note that the interface of the new CV iterators are different from that of this module. This module will be removed in 0.20.\n",
      "  \"This module will be removed in 0.20.\", DeprecationWarning)\n"
     ]
    }
   ],
   "source": [
    "import numpy as np\n",
    "import pandas as pd\n",
    "import matplotlib.pyplot as plt\n",
    "import seaborn as sns\n",
    "\n",
    "%matplotlib inline\n",
    "\n",
    "import pickle\n",
    "import sys\n",
    "sys.path.append(\"../tools/\")\n",
    "\n",
    "import warnings\n",
    "warnings.filterwarnings(\"ignore\")\n",
    "\n",
    "from feature_format import featureFormat, targetFeatureSplit\n",
    "from tester import dump_classifier_and_data, test_classifier\n",
    "import classification as cl"
   ]
  },
  {
   "cell_type": "markdown",
   "metadata": {},
   "source": [
    "## Analise dos dados e Remoção de outliers\n",
    "\n",
    "O primeiro passo deste trabalho é uma analise dos dados disponíveis com o intuito de identificar informações  faltantes ou fora do padrão. Para esta analise farei a carga das informações disponíveis no arquivo `final_project_dataset.pkl`.\n",
    "\n",
    "Por meio da análise de dados feita nesta seção tentarei identificar registros que precisam ser removidos do nosso dataset para um funcionamento adequado do algoritmo utilizado para as predições de POI. \n"
   ]
  },
  {
   "cell_type": "code",
   "execution_count": 2,
   "metadata": {},
   "outputs": [
    {
     "name": "stdout",
     "output_type": "stream",
     "text": [
      "<class 'pandas.core.frame.DataFrame'>\n",
      "Index: 146 entries, ALLEN PHILLIP K to YEAP SOON\n",
      "Data columns (total 21 columns):\n",
      "salary                       146 non-null object\n",
      "to_messages                  146 non-null object\n",
      "deferral_payments            146 non-null object\n",
      "total_payments               146 non-null object\n",
      "exercised_stock_options      146 non-null object\n",
      "bonus                        146 non-null object\n",
      "restricted_stock             146 non-null object\n",
      "shared_receipt_with_poi      146 non-null object\n",
      "restricted_stock_deferred    146 non-null object\n",
      "total_stock_value            146 non-null object\n",
      "expenses                     146 non-null object\n",
      "loan_advances                146 non-null object\n",
      "from_messages                146 non-null object\n",
      "other                        146 non-null object\n",
      "from_this_person_to_poi      146 non-null object\n",
      "poi                          146 non-null bool\n",
      "director_fees                146 non-null object\n",
      "deferred_income              146 non-null object\n",
      "long_term_incentive          146 non-null object\n",
      "email_address                146 non-null object\n",
      "from_poi_to_this_person      146 non-null object\n",
      "dtypes: bool(1), object(20)\n",
      "memory usage: 24.1+ KB\n"
     ]
    }
   ],
   "source": [
    "### Load the dictionary containing the dataset\n",
    "with open(\"final_project_dataset.pkl\", \"r\") as data_file:\n",
    "    data_dict = pickle.load(data_file)\n",
    "    \n",
    "enron_df = pd.DataFrame.from_dict(data_dict, orient = 'index')\n",
    "\n",
    "enron_df.info()"
   ]
  },
  {
   "cell_type": "markdown",
   "metadata": {},
   "source": [
    "São 146 registros com 21 colunas, sendo 20 colunas de _features_ e a coluna **poi** é o label que identifica se uma pessoa é ou não um POI (Person of Interest). Como _features_, temos:\n",
    "\n",
    " - salary                   \n",
    " - to_messages               \n",
    " - deferral_payments         \n",
    " - total_payments            \n",
    " - exercised_stock_options   \n",
    " - bonus                     \n",
    " - restricted_stock          \n",
    " - shared_receipt_with_poi   \n",
    " - restricted_stock_deferred \n",
    " - total_stock_value         \n",
    " - expenses                  \n",
    " - loan_advances             \n",
    " - from_messages             \n",
    " - other                     \n",
    " - from_this_person_to_poi   \n",
    " - director_fees             \n",
    " - deferred_income           \n",
    " - long_term_incentive       \n",
    " - email_address             \n",
    " - from_poi_to_this_person \n",
    "\n",
    "Vamos listar os primeiros registros do conjunto de dados."
   ]
  },
  {
   "cell_type": "code",
   "execution_count": 3,
   "metadata": {},
   "outputs": [
    {
     "data": {
      "text/html": [
       "<div>\n",
       "<style scoped>\n",
       "    .dataframe tbody tr th:only-of-type {\n",
       "        vertical-align: middle;\n",
       "    }\n",
       "\n",
       "    .dataframe tbody tr th {\n",
       "        vertical-align: top;\n",
       "    }\n",
       "\n",
       "    .dataframe thead th {\n",
       "        text-align: right;\n",
       "    }\n",
       "</style>\n",
       "<table border=\"1\" class=\"dataframe\">\n",
       "  <thead>\n",
       "    <tr style=\"text-align: right;\">\n",
       "      <th></th>\n",
       "      <th>salary</th>\n",
       "      <th>to_messages</th>\n",
       "      <th>deferral_payments</th>\n",
       "      <th>total_payments</th>\n",
       "      <th>exercised_stock_options</th>\n",
       "      <th>bonus</th>\n",
       "      <th>restricted_stock</th>\n",
       "      <th>shared_receipt_with_poi</th>\n",
       "      <th>restricted_stock_deferred</th>\n",
       "      <th>total_stock_value</th>\n",
       "      <th>...</th>\n",
       "      <th>loan_advances</th>\n",
       "      <th>from_messages</th>\n",
       "      <th>other</th>\n",
       "      <th>from_this_person_to_poi</th>\n",
       "      <th>poi</th>\n",
       "      <th>director_fees</th>\n",
       "      <th>deferred_income</th>\n",
       "      <th>long_term_incentive</th>\n",
       "      <th>email_address</th>\n",
       "      <th>from_poi_to_this_person</th>\n",
       "    </tr>\n",
       "  </thead>\n",
       "  <tbody>\n",
       "    <tr>\n",
       "      <th>ALLEN PHILLIP K</th>\n",
       "      <td>201955</td>\n",
       "      <td>2902</td>\n",
       "      <td>2869717</td>\n",
       "      <td>4484442</td>\n",
       "      <td>1729541</td>\n",
       "      <td>4175000</td>\n",
       "      <td>126027</td>\n",
       "      <td>1407</td>\n",
       "      <td>-126027</td>\n",
       "      <td>1729541</td>\n",
       "      <td>...</td>\n",
       "      <td>NaN</td>\n",
       "      <td>2195</td>\n",
       "      <td>152</td>\n",
       "      <td>65</td>\n",
       "      <td>False</td>\n",
       "      <td>NaN</td>\n",
       "      <td>-3081055</td>\n",
       "      <td>304805</td>\n",
       "      <td>phillip.allen@enron.com</td>\n",
       "      <td>47</td>\n",
       "    </tr>\n",
       "    <tr>\n",
       "      <th>BADUM JAMES P</th>\n",
       "      <td>NaN</td>\n",
       "      <td>NaN</td>\n",
       "      <td>178980</td>\n",
       "      <td>182466</td>\n",
       "      <td>257817</td>\n",
       "      <td>NaN</td>\n",
       "      <td>NaN</td>\n",
       "      <td>NaN</td>\n",
       "      <td>NaN</td>\n",
       "      <td>257817</td>\n",
       "      <td>...</td>\n",
       "      <td>NaN</td>\n",
       "      <td>NaN</td>\n",
       "      <td>NaN</td>\n",
       "      <td>NaN</td>\n",
       "      <td>False</td>\n",
       "      <td>NaN</td>\n",
       "      <td>NaN</td>\n",
       "      <td>NaN</td>\n",
       "      <td>NaN</td>\n",
       "      <td>NaN</td>\n",
       "    </tr>\n",
       "    <tr>\n",
       "      <th>BANNANTINE JAMES M</th>\n",
       "      <td>477</td>\n",
       "      <td>566</td>\n",
       "      <td>NaN</td>\n",
       "      <td>916197</td>\n",
       "      <td>4046157</td>\n",
       "      <td>NaN</td>\n",
       "      <td>1757552</td>\n",
       "      <td>465</td>\n",
       "      <td>-560222</td>\n",
       "      <td>5243487</td>\n",
       "      <td>...</td>\n",
       "      <td>NaN</td>\n",
       "      <td>29</td>\n",
       "      <td>864523</td>\n",
       "      <td>0</td>\n",
       "      <td>False</td>\n",
       "      <td>NaN</td>\n",
       "      <td>-5104</td>\n",
       "      <td>NaN</td>\n",
       "      <td>james.bannantine@enron.com</td>\n",
       "      <td>39</td>\n",
       "    </tr>\n",
       "    <tr>\n",
       "      <th>BAXTER JOHN C</th>\n",
       "      <td>267102</td>\n",
       "      <td>NaN</td>\n",
       "      <td>1295738</td>\n",
       "      <td>5634343</td>\n",
       "      <td>6680544</td>\n",
       "      <td>1200000</td>\n",
       "      <td>3942714</td>\n",
       "      <td>NaN</td>\n",
       "      <td>NaN</td>\n",
       "      <td>10623258</td>\n",
       "      <td>...</td>\n",
       "      <td>NaN</td>\n",
       "      <td>NaN</td>\n",
       "      <td>2660303</td>\n",
       "      <td>NaN</td>\n",
       "      <td>False</td>\n",
       "      <td>NaN</td>\n",
       "      <td>-1386055</td>\n",
       "      <td>1586055</td>\n",
       "      <td>NaN</td>\n",
       "      <td>NaN</td>\n",
       "    </tr>\n",
       "    <tr>\n",
       "      <th>BAY FRANKLIN R</th>\n",
       "      <td>239671</td>\n",
       "      <td>NaN</td>\n",
       "      <td>260455</td>\n",
       "      <td>827696</td>\n",
       "      <td>NaN</td>\n",
       "      <td>400000</td>\n",
       "      <td>145796</td>\n",
       "      <td>NaN</td>\n",
       "      <td>-82782</td>\n",
       "      <td>63014</td>\n",
       "      <td>...</td>\n",
       "      <td>NaN</td>\n",
       "      <td>NaN</td>\n",
       "      <td>69</td>\n",
       "      <td>NaN</td>\n",
       "      <td>False</td>\n",
       "      <td>NaN</td>\n",
       "      <td>-201641</td>\n",
       "      <td>NaN</td>\n",
       "      <td>frank.bay@enron.com</td>\n",
       "      <td>NaN</td>\n",
       "    </tr>\n",
       "  </tbody>\n",
       "</table>\n",
       "<p>5 rows × 21 columns</p>\n",
       "</div>"
      ],
      "text/plain": [
       "                    salary to_messages deferral_payments total_payments  \\\n",
       "ALLEN PHILLIP K     201955        2902           2869717        4484442   \n",
       "BADUM JAMES P          NaN         NaN            178980         182466   \n",
       "BANNANTINE JAMES M     477         566               NaN         916197   \n",
       "BAXTER JOHN C       267102         NaN           1295738        5634343   \n",
       "BAY FRANKLIN R      239671         NaN            260455         827696   \n",
       "\n",
       "                   exercised_stock_options    bonus restricted_stock  \\\n",
       "ALLEN PHILLIP K                    1729541  4175000           126027   \n",
       "BADUM JAMES P                       257817      NaN              NaN   \n",
       "BANNANTINE JAMES M                 4046157      NaN          1757552   \n",
       "BAXTER JOHN C                      6680544  1200000          3942714   \n",
       "BAY FRANKLIN R                         NaN   400000           145796   \n",
       "\n",
       "                   shared_receipt_with_poi restricted_stock_deferred  \\\n",
       "ALLEN PHILLIP K                       1407                   -126027   \n",
       "BADUM JAMES P                          NaN                       NaN   \n",
       "BANNANTINE JAMES M                     465                   -560222   \n",
       "BAXTER JOHN C                          NaN                       NaN   \n",
       "BAY FRANKLIN R                         NaN                    -82782   \n",
       "\n",
       "                   total_stock_value           ...           loan_advances  \\\n",
       "ALLEN PHILLIP K              1729541           ...                     NaN   \n",
       "BADUM JAMES P                 257817           ...                     NaN   \n",
       "BANNANTINE JAMES M           5243487           ...                     NaN   \n",
       "BAXTER JOHN C               10623258           ...                     NaN   \n",
       "BAY FRANKLIN R                 63014           ...                     NaN   \n",
       "\n",
       "                   from_messages    other from_this_person_to_poi    poi  \\\n",
       "ALLEN PHILLIP K             2195      152                      65  False   \n",
       "BADUM JAMES P                NaN      NaN                     NaN  False   \n",
       "BANNANTINE JAMES M            29   864523                       0  False   \n",
       "BAXTER JOHN C                NaN  2660303                     NaN  False   \n",
       "BAY FRANKLIN R               NaN       69                     NaN  False   \n",
       "\n",
       "                    director_fees deferred_income long_term_incentive  \\\n",
       "ALLEN PHILLIP K               NaN        -3081055              304805   \n",
       "BADUM JAMES P                 NaN             NaN                 NaN   \n",
       "BANNANTINE JAMES M            NaN           -5104                 NaN   \n",
       "BAXTER JOHN C                 NaN        -1386055             1586055   \n",
       "BAY FRANKLIN R                NaN         -201641                 NaN   \n",
       "\n",
       "                                 email_address from_poi_to_this_person  \n",
       "ALLEN PHILLIP K        phillip.allen@enron.com                      47  \n",
       "BADUM JAMES P                              NaN                     NaN  \n",
       "BANNANTINE JAMES M  james.bannantine@enron.com                      39  \n",
       "BAXTER JOHN C                              NaN                     NaN  \n",
       "BAY FRANKLIN R             frank.bay@enron.com                     NaN  \n",
       "\n",
       "[5 rows x 21 columns]"
      ]
     },
     "execution_count": 3,
     "metadata": {},
     "output_type": "execute_result"
    }
   ],
   "source": [
    "enron_df.head()"
   ]
  },
  {
   "cell_type": "markdown",
   "metadata": {},
   "source": [
    "Filtrando por POI, vemos que temos 18 POIs neste dataset e 128 pessoas que não são POI's.\n",
    "\n",
    "Numa analise rápida dos dados nota-se que temos muitos _missing values_ no conjunto de dados."
   ]
  },
  {
   "cell_type": "code",
   "execution_count": 4,
   "metadata": {},
   "outputs": [
    {
     "name": "stdout",
     "output_type": "stream",
     "text": [
      "Número de POI's:  18\n",
      "Número de não POI's:  128\n"
     ]
    },
    {
     "data": {
      "text/html": [
       "<div>\n",
       "<style scoped>\n",
       "    .dataframe tbody tr th:only-of-type {\n",
       "        vertical-align: middle;\n",
       "    }\n",
       "\n",
       "    .dataframe tbody tr th {\n",
       "        vertical-align: top;\n",
       "    }\n",
       "\n",
       "    .dataframe thead th {\n",
       "        text-align: right;\n",
       "    }\n",
       "</style>\n",
       "<table border=\"1\" class=\"dataframe\">\n",
       "  <thead>\n",
       "    <tr style=\"text-align: right;\">\n",
       "      <th></th>\n",
       "      <th>count</th>\n",
       "      <th>unique</th>\n",
       "      <th>top</th>\n",
       "      <th>freq</th>\n",
       "    </tr>\n",
       "  </thead>\n",
       "  <tbody>\n",
       "    <tr>\n",
       "      <th>salary</th>\n",
       "      <td>146</td>\n",
       "      <td>95</td>\n",
       "      <td>NaN</td>\n",
       "      <td>51</td>\n",
       "    </tr>\n",
       "    <tr>\n",
       "      <th>to_messages</th>\n",
       "      <td>146</td>\n",
       "      <td>87</td>\n",
       "      <td>NaN</td>\n",
       "      <td>60</td>\n",
       "    </tr>\n",
       "    <tr>\n",
       "      <th>deferral_payments</th>\n",
       "      <td>146</td>\n",
       "      <td>40</td>\n",
       "      <td>NaN</td>\n",
       "      <td>107</td>\n",
       "    </tr>\n",
       "    <tr>\n",
       "      <th>total_payments</th>\n",
       "      <td>146</td>\n",
       "      <td>126</td>\n",
       "      <td>NaN</td>\n",
       "      <td>21</td>\n",
       "    </tr>\n",
       "    <tr>\n",
       "      <th>exercised_stock_options</th>\n",
       "      <td>146</td>\n",
       "      <td>102</td>\n",
       "      <td>NaN</td>\n",
       "      <td>44</td>\n",
       "    </tr>\n",
       "    <tr>\n",
       "      <th>bonus</th>\n",
       "      <td>146</td>\n",
       "      <td>42</td>\n",
       "      <td>NaN</td>\n",
       "      <td>64</td>\n",
       "    </tr>\n",
       "    <tr>\n",
       "      <th>restricted_stock</th>\n",
       "      <td>146</td>\n",
       "      <td>98</td>\n",
       "      <td>NaN</td>\n",
       "      <td>36</td>\n",
       "    </tr>\n",
       "    <tr>\n",
       "      <th>shared_receipt_with_poi</th>\n",
       "      <td>146</td>\n",
       "      <td>84</td>\n",
       "      <td>NaN</td>\n",
       "      <td>60</td>\n",
       "    </tr>\n",
       "    <tr>\n",
       "      <th>restricted_stock_deferred</th>\n",
       "      <td>146</td>\n",
       "      <td>19</td>\n",
       "      <td>NaN</td>\n",
       "      <td>128</td>\n",
       "    </tr>\n",
       "    <tr>\n",
       "      <th>total_stock_value</th>\n",
       "      <td>146</td>\n",
       "      <td>125</td>\n",
       "      <td>NaN</td>\n",
       "      <td>20</td>\n",
       "    </tr>\n",
       "    <tr>\n",
       "      <th>expenses</th>\n",
       "      <td>146</td>\n",
       "      <td>95</td>\n",
       "      <td>NaN</td>\n",
       "      <td>51</td>\n",
       "    </tr>\n",
       "    <tr>\n",
       "      <th>loan_advances</th>\n",
       "      <td>146</td>\n",
       "      <td>5</td>\n",
       "      <td>NaN</td>\n",
       "      <td>142</td>\n",
       "    </tr>\n",
       "    <tr>\n",
       "      <th>from_messages</th>\n",
       "      <td>146</td>\n",
       "      <td>65</td>\n",
       "      <td>NaN</td>\n",
       "      <td>60</td>\n",
       "    </tr>\n",
       "    <tr>\n",
       "      <th>other</th>\n",
       "      <td>146</td>\n",
       "      <td>93</td>\n",
       "      <td>NaN</td>\n",
       "      <td>53</td>\n",
       "    </tr>\n",
       "    <tr>\n",
       "      <th>from_this_person_to_poi</th>\n",
       "      <td>146</td>\n",
       "      <td>42</td>\n",
       "      <td>NaN</td>\n",
       "      <td>60</td>\n",
       "    </tr>\n",
       "    <tr>\n",
       "      <th>poi</th>\n",
       "      <td>146</td>\n",
       "      <td>2</td>\n",
       "      <td>False</td>\n",
       "      <td>128</td>\n",
       "    </tr>\n",
       "    <tr>\n",
       "      <th>director_fees</th>\n",
       "      <td>146</td>\n",
       "      <td>18</td>\n",
       "      <td>NaN</td>\n",
       "      <td>129</td>\n",
       "    </tr>\n",
       "    <tr>\n",
       "      <th>deferred_income</th>\n",
       "      <td>146</td>\n",
       "      <td>45</td>\n",
       "      <td>NaN</td>\n",
       "      <td>97</td>\n",
       "    </tr>\n",
       "    <tr>\n",
       "      <th>long_term_incentive</th>\n",
       "      <td>146</td>\n",
       "      <td>53</td>\n",
       "      <td>NaN</td>\n",
       "      <td>80</td>\n",
       "    </tr>\n",
       "    <tr>\n",
       "      <th>email_address</th>\n",
       "      <td>146</td>\n",
       "      <td>112</td>\n",
       "      <td>NaN</td>\n",
       "      <td>35</td>\n",
       "    </tr>\n",
       "    <tr>\n",
       "      <th>from_poi_to_this_person</th>\n",
       "      <td>146</td>\n",
       "      <td>58</td>\n",
       "      <td>NaN</td>\n",
       "      <td>60</td>\n",
       "    </tr>\n",
       "  </tbody>\n",
       "</table>\n",
       "</div>"
      ],
      "text/plain": [
       "                          count unique    top freq\n",
       "salary                      146     95    NaN   51\n",
       "to_messages                 146     87    NaN   60\n",
       "deferral_payments           146     40    NaN  107\n",
       "total_payments              146    126    NaN   21\n",
       "exercised_stock_options     146    102    NaN   44\n",
       "bonus                       146     42    NaN   64\n",
       "restricted_stock            146     98    NaN   36\n",
       "shared_receipt_with_poi     146     84    NaN   60\n",
       "restricted_stock_deferred   146     19    NaN  128\n",
       "total_stock_value           146    125    NaN   20\n",
       "expenses                    146     95    NaN   51\n",
       "loan_advances               146      5    NaN  142\n",
       "from_messages               146     65    NaN   60\n",
       "other                       146     93    NaN   53\n",
       "from_this_person_to_poi     146     42    NaN   60\n",
       "poi                         146      2  False  128\n",
       "director_fees               146     18    NaN  129\n",
       "deferred_income             146     45    NaN   97\n",
       "long_term_incentive         146     53    NaN   80\n",
       "email_address               146    112    NaN   35\n",
       "from_poi_to_this_person     146     58    NaN   60"
      ]
     },
     "execution_count": 4,
     "metadata": {},
     "output_type": "execute_result"
    }
   ],
   "source": [
    "print \"Número de POI's: \", len(enron_df.loc[enron_df['poi'] == True])\n",
    "print \"Número de não POI's: \", len(enron_df.loc[enron_df['poi'] == False])\n",
    "enron_df.describe().transpose()"
   ]
  },
  {
   "cell_type": "markdown",
   "metadata": {},
   "source": [
    "Para melhor vizualização dos dados, vou subsitiuir as strings `NaN` pela representação do `NaN` no `numpy`."
   ]
  },
  {
   "cell_type": "code",
   "execution_count": 5,
   "metadata": {},
   "outputs": [],
   "source": [
    "enron_df.replace('NaN', np.nan, inplace = True)"
   ]
  },
  {
   "cell_type": "markdown",
   "metadata": {},
   "source": [
    "Pelo resumo apresentado é possível notar que existe um grande quantidade de valores faltantes para as caracteristicas presentes no conjunto de dados. Todas as _features_ possuem valores faltantes. Por este motivo resolvi listar a quantidade de `NaN` por registro, e não por coluna. Gerei um dataframe temporário com a quantidade de registros `NaN` por pessoa presente no dataset."
   ]
  },
  {
   "cell_type": "code",
   "execution_count": 6,
   "metadata": {},
   "outputs": [
    {
     "data": {
      "text/plain": [
       "LOCKHART EUGENE E                20\n",
       "GRAMM WENDY L                    18\n",
       "WROBEL BRUCE                     18\n",
       "WHALEY DAVID A                   18\n",
       "THE TRAVEL AGENCY IN THE PARK    18\n",
       "dtype: int64"
      ]
     },
     "execution_count": 6,
     "metadata": {},
     "output_type": "execute_result"
    }
   ],
   "source": [
    "df_tmp = enron_df.isnull().sum(axis=1).sort_values(ascending=False)\n",
    "df_tmp.head()"
   ]
  },
  {
   "cell_type": "code",
   "execution_count": 7,
   "metadata": {},
   "outputs": [
    {
     "data": {
      "text/plain": [
       "salary                         NaN\n",
       "to_messages                    NaN\n",
       "deferral_payments              NaN\n",
       "total_payments                 NaN\n",
       "exercised_stock_options        NaN\n",
       "bonus                          NaN\n",
       "restricted_stock               NaN\n",
       "shared_receipt_with_poi        NaN\n",
       "restricted_stock_deferred      NaN\n",
       "total_stock_value              NaN\n",
       "expenses                       NaN\n",
       "loan_advances                  NaN\n",
       "from_messages                  NaN\n",
       "other                          NaN\n",
       "from_this_person_to_poi        NaN\n",
       "poi                          False\n",
       "director_fees                  NaN\n",
       "deferred_income                NaN\n",
       "long_term_incentive            NaN\n",
       "email_address                  NaN\n",
       "from_poi_to_this_person        NaN\n",
       "Name: LOCKHART EUGENE E, dtype: object"
      ]
     },
     "execution_count": 7,
     "metadata": {},
     "output_type": "execute_result"
    }
   ],
   "source": [
    "enron_df.loc['LOCKHART EUGENE E']"
   ]
  },
  {
   "cell_type": "markdown",
   "metadata": {},
   "source": [
    "Vemos que no registro de **LOCKHART EUGENE E** todos as caracteristicas (20) estão sem valores. Apenas o nosso _label_ **poi** possui informação. Vamos então remover este registro da nossa base de dados.\n",
    "\n",
    "Nesta mesma relação nota-se o nome de **THE TRAVEL AGENCY IN THE PARK**, que não é uma pessoa. Também iremos fazer a remoção desta linha de nosso dataset ao final da seção."
   ]
  },
  {
   "cell_type": "markdown",
   "metadata": {},
   "source": [
    "Continuando com a analise das informações disponíveis, vamos identificar _outliers_ existentes a portir de gráficos _boxplot_.\n",
    "\n",
    "Inicialmente consideraremos todas as features do conjunto de dados, com execeção apenas do email  (*email_address*), que é apenas informativa."
   ]
  },
  {
   "cell_type": "code",
   "execution_count": 8,
   "metadata": {},
   "outputs": [],
   "source": [
    "features_list = ['poi',\n",
    "                 'salary',\n",
    "                 'bonus',\n",
    "                 'long_term_incentive',\n",
    "                 'deferred_income',\n",
    "                 'deferral_payments',\n",
    "                 'loan_advances',\n",
    "                 'other',\n",
    "                 'expenses',\n",
    "                 'director_fees',\n",
    "                 'total_payments',\n",
    "                 'exercised_stock_options',\n",
    "                 'restricted_stock',\n",
    "                 'restricted_stock_deferred',\n",
    "                 'total_stock_value',\n",
    "                 'from_messages',\n",
    "                 'to_messages',\n",
    "                 'from_poi_to_this_person',\n",
    "                 'from_this_person_to_poi',\n",
    "                 'shared_receipt_with_poi']"
   ]
  },
  {
   "cell_type": "code",
   "execution_count": 9,
   "metadata": {
    "scrolled": true
   },
   "outputs": [
    {
     "data": {
      "text/plain": [
       "(array([ 1,  2,  3,  4,  5,  6,  7,  8,  9, 10, 11, 12, 13, 14, 15, 16, 17,\n",
       "        18, 19]), <a list of 19 Text xticklabel objects>)"
      ]
     },
     "execution_count": 9,
     "metadata": {},
     "output_type": "execute_result"
    },
    {
     "data": {
      "image/png": "[encoded data removed]",
      "text/plain": [
       "<Figure size 1152x288 with 1 Axes>"
      ]
     },
     "metadata": {},
     "output_type": "display_data"
    }
   ],
   "source": [
    "enron_df.boxplot(figsize=(16,4), column=features_list[1:])\n",
    "plt.xticks(rotation=45)"
   ]
  },
  {
   "cell_type": "markdown",
   "metadata": {},
   "source": [
    "Com base no gráfico _boxplot_ gerado com base nas features, é possivel notar alguns _outliers_ que precisam ser avaliados. Analisando a primeira feature com uma informação mais destacada (`deferral_payments`), percebemos que ela se refere a um registro de totalização com o nome **TOTAL**."
   ]
  },
  {
   "cell_type": "code",
   "execution_count": 10,
   "metadata": {},
   "outputs": [
    {
     "data": {
      "text/plain": [
       "salary                       2.67042e+07\n",
       "to_messages                          NaN\n",
       "deferral_payments            3.20834e+07\n",
       "total_payments               3.09887e+08\n",
       "exercised_stock_options      3.11764e+08\n",
       "bonus                        9.73436e+07\n",
       "restricted_stock             1.30322e+08\n",
       "shared_receipt_with_poi              NaN\n",
       "restricted_stock_deferred   -7.57679e+06\n",
       "total_stock_value             4.3451e+08\n",
       "expenses                      5.2352e+06\n",
       "loan_advances                 8.3925e+07\n",
       "from_messages                        NaN\n",
       "other                        4.26676e+07\n",
       "from_this_person_to_poi              NaN\n",
       "poi                                False\n",
       "director_fees                1.39852e+06\n",
       "deferred_income             -2.79929e+07\n",
       "long_term_incentive          4.85219e+07\n",
       "email_address                        NaN\n",
       "from_poi_to_this_person              NaN\n",
       "Name: TOTAL, dtype: object"
      ]
     },
     "execution_count": 10,
     "metadata": {},
     "output_type": "execute_result"
    }
   ],
   "source": [
    "enron_df.loc[enron_df['deferral_payments'].idxmax()]"
   ]
  },
  {
   "cell_type": "markdown",
   "metadata": {},
   "source": [
    "O primeiro passo é a remoção da linha de **TOTAL** identificada. Esta linha nos traz valores a soma dos valores dos outros registros do conjunto de dados e pode nos levar a conclusões erradas. \n",
    "\n",
    "É possível notarmos o impacto deste registro quando fazemos uma analise dos dados de _bonus x salário_ antes e depois da remoção."
   ]
  },
  {
   "cell_type": "code",
   "execution_count": 11,
   "metadata": {},
   "outputs": [
    {
     "data": {
      "text/plain": [
       "<matplotlib.axes._subplots.AxesSubplot at 0x11b79efd0>"
      ]
     },
     "execution_count": 11,
     "metadata": {},
     "output_type": "execute_result"
    },
    {
     "data": {
      "image/png": "[encoded data removed]",
      "text/plain": [
       "<Figure size 1152x288 with 2 Axes>"
      ]
     },
     "metadata": {},
     "output_type": "display_data"
    }
   ],
   "source": [
    "_, axes = plt.subplots(nrows=1, ncols=2, figsize=(16,4))\n",
    "axes[0].title.set_text('Com registro TOTAL')\n",
    "enron_df.plot.scatter('salary','bonus', ax=axes[0], c='r')\n",
    "axes[1].title.set_text('Sem registro TOTAL')\n",
    "enron_df.drop(['TOTAL']).plot.scatter('salary','bonus', ax=axes[1], c='g')"
   ]
  },
  {
   "cell_type": "markdown",
   "metadata": {},
   "source": [
    "Vamos agora fazer uma conferencia das somas de pagamentos e ações com os valores informados com base nas colunas `total_stock_payment` e `total_stock_value`. Essa é uma boa forma de detectar informações fora do padrão de forma automatizada. "
   ]
  },
  {
   "cell_type": "code",
   "execution_count": 12,
   "metadata": {},
   "outputs": [
    {
     "data": {
      "text/html": [
       "<div>\n",
       "<style scoped>\n",
       "    .dataframe tbody tr th:only-of-type {\n",
       "        vertical-align: middle;\n",
       "    }\n",
       "\n",
       "    .dataframe tbody tr th {\n",
       "        vertical-align: top;\n",
       "    }\n",
       "\n",
       "    .dataframe thead th {\n",
       "        text-align: right;\n",
       "    }\n",
       "</style>\n",
       "<table border=\"1\" class=\"dataframe\">\n",
       "  <thead>\n",
       "    <tr style=\"text-align: right;\">\n",
       "      <th></th>\n",
       "      <th>salary</th>\n",
       "      <th>bonus</th>\n",
       "      <th>long_term_incentive</th>\n",
       "      <th>deferred_income</th>\n",
       "      <th>deferral_payments</th>\n",
       "      <th>loan_advances</th>\n",
       "      <th>other</th>\n",
       "      <th>expenses</th>\n",
       "      <th>director_fees</th>\n",
       "    </tr>\n",
       "  </thead>\n",
       "  <tbody>\n",
       "    <tr>\n",
       "      <th>BELFER ROBERT</th>\n",
       "      <td>NaN</td>\n",
       "      <td>NaN</td>\n",
       "      <td>NaN</td>\n",
       "      <td>NaN</td>\n",
       "      <td>-102500.0</td>\n",
       "      <td>NaN</td>\n",
       "      <td>NaN</td>\n",
       "      <td>NaN</td>\n",
       "      <td>3285.0</td>\n",
       "    </tr>\n",
       "    <tr>\n",
       "      <th>BHATNAGAR SANJAY</th>\n",
       "      <td>NaN</td>\n",
       "      <td>NaN</td>\n",
       "      <td>NaN</td>\n",
       "      <td>NaN</td>\n",
       "      <td>NaN</td>\n",
       "      <td>NaN</td>\n",
       "      <td>137864.0</td>\n",
       "      <td>NaN</td>\n",
       "      <td>137864.0</td>\n",
       "    </tr>\n",
       "  </tbody>\n",
       "</table>\n",
       "</div>"
      ],
      "text/plain": [
       "                  salary  bonus  long_term_incentive  deferred_income  \\\n",
       "BELFER ROBERT        NaN    NaN                  NaN              NaN   \n",
       "BHATNAGAR SANJAY     NaN    NaN                  NaN              NaN   \n",
       "\n",
       "                  deferral_payments  loan_advances     other  expenses  \\\n",
       "BELFER ROBERT             -102500.0            NaN       NaN       NaN   \n",
       "BHATNAGAR SANJAY                NaN            NaN  137864.0       NaN   \n",
       "\n",
       "                  director_fees  \n",
       "BELFER ROBERT            3285.0  \n",
       "BHATNAGAR SANJAY       137864.0  "
      ]
     },
     "execution_count": 12,
     "metadata": {},
     "output_type": "execute_result"
    }
   ],
   "source": [
    "enron_df['check_total_payment_value'] = (enron_df['salary'].fillna(0)+ \\\n",
    "                                      enron_df['bonus'].fillna(0)+ \\\n",
    "                                      enron_df['long_term_incentive'].fillna(0)+ \\\n",
    "                                      enron_df['deferred_income'].fillna(0)+ \\\n",
    "                                      enron_df['deferral_payments'].fillna(0)+ \\\n",
    "                                      enron_df['loan_advances'].fillna(0)+ \\\n",
    "                                      enron_df['other'].fillna(0)+ \\\n",
    "                                      enron_df['expenses'].fillna(0)+ \\\n",
    "                                      enron_df['director_fees'].fillna(0)) == enron_df['total_payments'].fillna(0)\n",
    "\n",
    "enron_df.loc[enron_df['check_total_payment_value'] == False][['salary','bonus','long_term_incentive','deferred_income','deferral_payments','loan_advances','other','expenses','director_fees']]\n",
    "\n"
   ]
  },
  {
   "cell_type": "code",
   "execution_count": 13,
   "metadata": {},
   "outputs": [
    {
     "data": {
      "text/html": [
       "<div>\n",
       "<style scoped>\n",
       "    .dataframe tbody tr th:only-of-type {\n",
       "        vertical-align: middle;\n",
       "    }\n",
       "\n",
       "    .dataframe tbody tr th {\n",
       "        vertical-align: top;\n",
       "    }\n",
       "\n",
       "    .dataframe thead th {\n",
       "        text-align: right;\n",
       "    }\n",
       "</style>\n",
       "<table border=\"1\" class=\"dataframe\">\n",
       "  <thead>\n",
       "    <tr style=\"text-align: right;\">\n",
       "      <th></th>\n",
       "      <th>exercised_stock_options</th>\n",
       "      <th>restricted_stock</th>\n",
       "      <th>restricted_stock_deferred</th>\n",
       "      <th>total_stock_value</th>\n",
       "    </tr>\n",
       "  </thead>\n",
       "  <tbody>\n",
       "    <tr>\n",
       "      <th>BELFER ROBERT</th>\n",
       "      <td>3285.0</td>\n",
       "      <td>NaN</td>\n",
       "      <td>44093.0</td>\n",
       "      <td>-44093.0</td>\n",
       "    </tr>\n",
       "    <tr>\n",
       "      <th>BHATNAGAR SANJAY</th>\n",
       "      <td>2604490.0</td>\n",
       "      <td>-2604490.0</td>\n",
       "      <td>15456290.0</td>\n",
       "      <td>NaN</td>\n",
       "    </tr>\n",
       "  </tbody>\n",
       "</table>\n",
       "</div>"
      ],
      "text/plain": [
       "                  exercised_stock_options  restricted_stock  \\\n",
       "BELFER ROBERT                      3285.0               NaN   \n",
       "BHATNAGAR SANJAY                2604490.0        -2604490.0   \n",
       "\n",
       "                  restricted_stock_deferred  total_stock_value  \n",
       "BELFER ROBERT                       44093.0           -44093.0  \n",
       "BHATNAGAR SANJAY                 15456290.0                NaN  "
      ]
     },
     "execution_count": 13,
     "metadata": {},
     "output_type": "execute_result"
    }
   ],
   "source": [
    "\n",
    "enron_df['check_total_stock_value'] = (enron_df['exercised_stock_options'].fillna(0)+ \\\n",
    "                                      enron_df['restricted_stock'].fillna(0)+ \\\n",
    "                                      enron_df['restricted_stock_deferred'].fillna(0)) == enron_df['total_stock_value'].fillna(0)\n",
    "\n",
    "enron_df.loc[enron_df['check_total_stock_value'] == False][['exercised_stock_options','restricted_stock','restricted_stock_deferred','total_stock_value']]\n",
    "\n"
   ]
  },
  {
   "cell_type": "markdown",
   "metadata": {},
   "source": [
    "A partir da verificação das somas percebemos duas situações incomuns. Tanto **BELFER ROBERT** quanto **BHATNAGAR SANJAY** possui divergencias em suas informações. Anallisando o documento PDF anexado ao projeto notamos que os valores estão divergentes dos existentes no conjunto de dados. Comparando as colunas, percebemos que houve um deslocamento dos valores.\n",
    "\n",
    "Vamos corrigir estas informações para darmos continuidade da analise."
   ]
  },
  {
   "cell_type": "code",
   "execution_count": 14,
   "metadata": {},
   "outputs": [],
   "source": [
    "### Exclusão das colunas criadas para analise dos valores\n",
    "enron_df.drop('check_total_stock_value', axis=1, inplace=True)\n",
    "enron_df.drop('check_total_payment_value', axis=1, inplace=True)"
   ]
  },
  {
   "cell_type": "markdown",
   "metadata": {},
   "source": [
    "Agora realizaremos todos os ajustes citados anteriormente na nossa base de dados da Enron. Estes ajustes serão realizados através do código no arquivo `data_handling.py`. Após a exclusão dos outliers e ajustes das informações, recarregarei o dataframe com as novas informações para continuar com as analises."
   ]
  },
  {
   "cell_type": "code",
   "execution_count": 15,
   "metadata": {},
   "outputs": [
    {
     "name": "stdout",
     "output_type": "stream",
     "text": [
      "<class 'pandas.core.frame.DataFrame'>\n",
      "Index: 143 entries, ALLEN PHILLIP K to YEAP SOON\n",
      "Data columns (total 21 columns):\n",
      "salary                       143 non-null int64\n",
      "to_messages                  143 non-null int64\n",
      "deferral_payments            143 non-null int64\n",
      "total_payments               143 non-null int64\n",
      "exercised_stock_options      143 non-null int64\n",
      "bonus                        143 non-null int64\n",
      "restricted_stock             143 non-null int64\n",
      "shared_receipt_with_poi      143 non-null int64\n",
      "restricted_stock_deferred    143 non-null int64\n",
      "total_stock_value            143 non-null int64\n",
      "expenses                     143 non-null int64\n",
      "loan_advances                143 non-null int64\n",
      "from_messages                143 non-null int64\n",
      "other                        143 non-null int64\n",
      "from_this_person_to_poi      143 non-null int64\n",
      "poi                          143 non-null bool\n",
      "director_fees                143 non-null int64\n",
      "deferred_income              143 non-null int64\n",
      "long_term_incentive          143 non-null int64\n",
      "email_address                143 non-null object\n",
      "from_poi_to_this_person      143 non-null int64\n",
      "dtypes: bool(1), int64(19), object(1)\n",
      "memory usage: 23.6+ KB\n"
     ]
    }
   ],
   "source": [
    "### Remoção dos outliers e correção dos dados\n",
    "import data_handling\n",
    "data_dict = data_handling.outlier_cleaning(data_dict)\n",
    "data_dict = data_handling.data_handling(data_dict)\n",
    "data_dict = data_handling.remove_nan(data_dict)\n",
    "\n",
    "### Regarrega o dataframe apos o tratamento dos dados\n",
    "enron_df = pd.DataFrame.from_dict(data_dict, orient = 'index')\n",
    "enron_df.replace('NaN', np.nan, inplace = True)\n",
    "enron_df.info()"
   ]
  },
  {
   "cell_type": "markdown",
   "metadata": {},
   "source": [
    "## Otimização da Seleção de Características/Engenharia\n",
    "\n",
    "\n",
    "Após a limpeza de nosso conjunto de dados, vamos avaliar quais são os melhores _features_ para utilização com o algoritimo utilzado para identificação de POIs na base de dados da ENRON.\n",
    "\n",
    "Todos os scripts relacionados ao tratamento das _features_ estarão no arquivo `features_selection.py`."
   ]
  },
  {
   "cell_type": "markdown",
   "metadata": {},
   "source": [
    "### Criação de novas _Features_\n",
    "\n",
    "Para este trabalho serão criadas novas _features_ a partir das já existentes com intuito de identificarmos características que nos ajudem a melhorar a precisão dos classificadores. Serão criadas as seguintes features para compor o conjunto de dados disponibilizado:\n",
    "\n",
    "- Total Recebido\n",
    "- Bonus s/ Pagamento Recebido\n",
    "- Proporção de emails de POI\n",
    "\n",
    "#### Total Recebido\n",
    "\n",
    "Uma das caracteristicas que pode ser gerada a partir dos dados disponibilizados e a o total recebido, incluindo pagamentos e ações. Analisando os dados é possível perceber que em diversos registros não estão presentes a característica `total_payments` (21 registros) ou `total_stock_value` (20 registros). A idéia é ter uma feature para todos os registros indicando o total geral recebido pela pessoa.\n",
    "\n",
    "A criação desta característica é feita pelo método: `create_new_financial_features`\n",
    "\n",
    "#### Bonus s/ Pagamento Recebido\n",
    "\n",
    "Nesta _feature_ criada, o objetivo é termos uma visão da importancia do bonus recebido dentro do total de pagamentos que cada umas das pessoas presentes no conjunto de dados original.\n",
    "\n",
    "A criação desta característica é feita pelo método: `create_new_financial_features`\n",
    "\n",
    "#### Proporção de emails de POI\n",
    "\n",
    "Neste item a preocupação foi dar um enfoque na proporção de emails recebidos e/ou enviados a **POIs** em relação aos emails total de cada uma das pessoas presentes no _dataset_. \n",
    "\n",
    "Quando a quantidade de emails enviado ou recebido de um **POI**, é relevante saber qual a relação com o total de emails da pessoa. Me parece que uma pessoa que tenho mandado 20% dos seus emails para um POI é mais relevante que outra que tenha mandado 5% de seus emails para POI, mesmo que a quantidade seja semelhante em valores absolutos.\n",
    "\n",
    "A criação desta característica é feita pelo método: `create_poi_email_ratio_features`"
   ]
  },
  {
   "cell_type": "code",
   "execution_count": 16,
   "metadata": {},
   "outputs": [
    {
     "data": {
      "text/html": [
       "<div>\n",
       "<style scoped>\n",
       "    .dataframe tbody tr th:only-of-type {\n",
       "        vertical-align: middle;\n",
       "    }\n",
       "\n",
       "    .dataframe tbody tr th {\n",
       "        vertical-align: top;\n",
       "    }\n",
       "\n",
       "    .dataframe thead th {\n",
       "        text-align: right;\n",
       "    }\n",
       "</style>\n",
       "<table border=\"1\" class=\"dataframe\">\n",
       "  <thead>\n",
       "    <tr style=\"text-align: right;\">\n",
       "      <th></th>\n",
       "      <th>from_this_person_to_poi</th>\n",
       "      <th>from_messages</th>\n",
       "    </tr>\n",
       "  </thead>\n",
       "  <tbody>\n",
       "    <tr>\n",
       "      <th>KAMINSKI WINCENTY J</th>\n",
       "      <td>171</td>\n",
       "      <td>14368</td>\n",
       "    </tr>\n",
       "    <tr>\n",
       "      <th>KEAN STEVEN J</th>\n",
       "      <td>387</td>\n",
       "      <td>6759</td>\n",
       "    </tr>\n",
       "    <tr>\n",
       "      <th>BECK SALLY W</th>\n",
       "      <td>386</td>\n",
       "      <td>4343</td>\n",
       "    </tr>\n",
       "    <tr>\n",
       "      <th>DELAINEY DAVID W</th>\n",
       "      <td>609</td>\n",
       "      <td>3069</td>\n",
       "    </tr>\n",
       "    <tr>\n",
       "      <th>MCCONNELL MICHAEL S</th>\n",
       "      <td>194</td>\n",
       "      <td>2742</td>\n",
       "    </tr>\n",
       "  </tbody>\n",
       "</table>\n",
       "</div>"
      ],
      "text/plain": [
       "                     from_this_person_to_poi  from_messages\n",
       "KAMINSKI WINCENTY J                      171          14368\n",
       "KEAN STEVEN J                            387           6759\n",
       "BECK SALLY W                             386           4343\n",
       "DELAINEY DAVID W                         609           3069\n",
       "MCCONNELL MICHAEL S                      194           2742"
      ]
     },
     "execution_count": 16,
     "metadata": {},
     "output_type": "execute_result"
    }
   ],
   "source": [
    "enron_df[['from_this_person_to_poi','from_messages']].dropna().sort_values(by='from_messages', ascending=False).head()"
   ]
  },
  {
   "cell_type": "code",
   "execution_count": 17,
   "metadata": {},
   "outputs": [],
   "source": [
    "import features_selection as fs\n",
    "\n",
    "data_dict, new_financial_features = fs.create_new_financial_features(data_dict)\n",
    "data_dict, new_email_feaures = fs.create_poi_email_ratio_features(data_dict)\n",
    "\n",
    "features_list_2 = features_list + new_financial_features + new_email_feaures"
   ]
  },
  {
   "cell_type": "markdown",
   "metadata": {},
   "source": [
    "### Selecionado _Features_ com o _SelectKBest_\n",
    "\n",
    "Para a definição das melhores _features_ a serem usadas na predição dos POI's, utilizarei o algoritimo SelectKBest do `scikit-learn`. Serão selecionadas as 10 principais caracteristicas. No primeira passo farei a seleção considerando apenas as features originais:"
   ]
  },
  {
   "cell_type": "code",
   "execution_count": 18,
   "metadata": {},
   "outputs": [
    {
     "name": "stdout",
     "output_type": "stream",
     "text": [
      "Feature: total_stock_value         - Score: 22.5105490902\n",
      "Feature: exercised_stock_options   - Score: 22.3489754073\n",
      "Feature: bonus                     - Score: 20.7922520472\n",
      "Feature: salary                    - Score: 18.2896840434\n",
      "Feature: deferred_income           - Score: 11.4248914854\n",
      "Feature: long_term_incentive       - Score: 9.92218601319\n",
      "Feature: total_payments            - Score: 9.28387361843\n",
      "Feature: restricted_stock          - Score: 8.82544221992\n",
      "Feature: shared_receipt_with_poi   - Score: 8.58942073168\n",
      "Feature: loan_advances             - Score: 7.18405565829\n"
     ]
    }
   ],
   "source": [
    "best_features_and_score = fs.select_k_best(data_dict, features_list, 10)\n",
    "\n",
    "best_features_original = ['poi']\n",
    "\n",
    "for feature in best_features_and_score:\n",
    "    print \"Feature: {:25} - Score: {}\".format(feature[0], feature[1])\n",
    "    best_features_original.append(feature[0])"
   ]
  },
  {
   "cell_type": "markdown",
   "metadata": {},
   "source": [
    "Como podemos ver na lista acima, 9 das características selecionadas se referem a informações financeiras a apenas 1 (`shared_receipt_with_poi`) esta relacionada ao emails enviados, e ainda assim ranqueado apenas em 9o lugar.\n",
    "\n",
    "Nesta segunda etapa faremos a seleção das features considerando também as características criadas:"
   ]
  },
  {
   "cell_type": "code",
   "execution_count": 19,
   "metadata": {},
   "outputs": [
    {
     "name": "stdout",
     "output_type": "stream",
     "text": [
      "Feature: total_stock_value         - Score: 22.5105490902\n",
      "Feature: exercised_stock_options   - Score: 22.3489754073\n",
      "Feature: bonus                     - Score: 20.7922520472\n",
      "Feature: salary                    - Score: 18.2896840434\n",
      "Feature: total_revenue             - Score: 16.9893364218\n",
      "Feature: bonus_ratio               - Score: 12.5644314001\n",
      "Feature: deferred_income           - Score: 11.4248914854\n",
      "Feature: long_term_incentive       - Score: 9.92218601319\n",
      "Feature: total_payments            - Score: 9.28387361843\n",
      "Feature: restricted_stock          - Score: 8.82544221992\n"
     ]
    }
   ],
   "source": [
    "best_features_and_score = fs.select_k_best(data_dict, features_list_2, 10)\n",
    "\n",
    "# O vetor de melhores de caracteristicas é iniciado com 'poi' porque ele precisa ser o primeiro\n",
    "# elemento para execução dos algoritimos\n",
    "best_features = ['poi']\n",
    "\n",
    "for feature in best_features_and_score:\n",
    "    print \"Feature: {:25} - Score: {}\".format(feature[0], feature[1])\n",
    "    best_features.append(feature[0])"
   ]
  },
  {
   "cell_type": "code",
   "execution_count": 20,
   "metadata": {},
   "outputs": [
    {
     "name": "stdout",
     "output_type": "stream",
     "text": [
      "['poi', 'total_stock_value', 'exercised_stock_options', 'bonus', 'salary', 'total_revenue', 'bonus_ratio', 'deferred_income', 'long_term_incentive', 'total_payments', 'restricted_stock']\n"
     ]
    }
   ],
   "source": [
    "print best_features"
   ]
  },
  {
   "cell_type": "markdown",
   "metadata": {},
   "source": [
    "Com a inclusão das novas _features_, apenas aquelas de cunho financeiro foram selecionadas. Nenhuma característica relacionada a email foi mantida. As duas _features_ financeiras criadas (`total_revenue` e `bonus_ratio`) estão presentes entre as características selecionadas.\n",
    "\n",
    "Neste primeiro passo fizemos a seleção das características com um valor fixo de 10. Mas como saber se este o melhor parametro a ser usado. Para avaliarmos esta questão, farei a execução do algoritimo Naive Bayes com seus parametros base, considerando diversos valores para K (números de _features_ consideradas)."
   ]
  },
  {
   "cell_type": "code",
   "execution_count": 21,
   "metadata": {},
   "outputs": [
    {
     "name": "stdout",
     "output_type": "stream",
     "text": [
      "GaussianNB 2 features - F1: 0.33988\n",
      "DecisionTreeClassifier 2 features - F1: 0.1977\n",
      "GaussianNB 3 features - F1: 0.40012\n",
      "DecisionTreeClassifier 3 features - F1: 0.35192\n",
      "GaussianNB 4 features - F1: 0.37339\n",
      "DecisionTreeClassifier 4 features - F1: 0.3\n",
      "GaussianNB 5 features - F1: 0.3526\n",
      "DecisionTreeClassifier 5 features - F1: 0.26762\n",
      "GaussianNB 6 features - F1: 0.3526\n",
      "DecisionTreeClassifier 6 features - F1: 0.23521\n",
      "GaussianNB 7 features - F1: 0.39284\n",
      "DecisionTreeClassifier 7 features - F1: 0.23865\n",
      "GaussianNB 8 features - F1: 0.38476\n",
      "DecisionTreeClassifier 8 features - F1: 0.21945\n",
      "GaussianNB 9 features - F1: 0.38034\n",
      "DecisionTreeClassifier 9 features - F1: 0.25897\n",
      "GaussianNB 10 features - F1: 0.3751\n",
      "DecisionTreeClassifier 10 features - F1: 0.25993\n"
     ]
    },
    {
     "data": {
      "text/plain": [
       "<matplotlib.axes._subplots.AxesSubplot at 0x11b45e0d0>"
      ]
     },
     "execution_count": 21,
     "metadata": {},
     "output_type": "execute_result"
    },
    {
     "data": {
      "image/png": "[encoded data removed]",
      "text/plain": [
       "<Figure size 432x288 with 1 Axes>"
      ]
     },
     "metadata": {},
     "output_type": "display_data"
    }
   ],
   "source": [
    "from sklearn.naive_bayes import GaussianNB\n",
    "from sklearn.tree import DecisionTreeClassifier\n",
    "\n",
    "resultado = {'GaussianNB': [], 'DecisionTreeClassifier': []}\n",
    "classifiers = [GaussianNB(), DecisionTreeClassifier(random_state=42)]\n",
    "\n",
    "indices = range(2, 11) \n",
    "\n",
    "for k in indices:\n",
    "    features_and_score_ = fs.select_k_best(data_dict, features_list_2, k)\n",
    "\n",
    "    # O vetor de melhores de caracteristicas é iniciado com 'poi' porque ele precisa ser o primeiro\n",
    "    # elemento para execução dos algoritimos\n",
    "    features_list_test = ['poi']\n",
    "\n",
    "    for feature in features_and_score_:\n",
    "        features_list_test.append(feature[0])\n",
    "        \n",
    "    for clf in classifiers:\n",
    "        classificador = str(clf).split('(')[0]\n",
    "        f1 = cl.classifier(clf, data_dict, features_list_test)\n",
    "        print \"{} {} features - F1: {}\".format(classificador, k, f1)\n",
    "\n",
    "        resultado[classificador].append(f1)\n",
    "        \n",
    "df_kbest = pd.DataFrame(resultado, index=indices)\n",
    "\n",
    "df_kbest.plot()\n"
   ]
  },
  {
   "cell_type": "markdown",
   "metadata": {},
   "source": [
    "Como podemos ver no gráfico acima, o melhor desempenho para o Naive Bayes ocorreu com 3, 7 e 8 features e para o Decision Tree com 3, 4 e 10 features. Durante a execução do algoritmio completo, utilizarei as opções de k no SelectKBest do pipeline a ser criado com base neste resultado.\n"
   ]
  },
  {
   "cell_type": "markdown",
   "metadata": {},
   "source": [
    "Vamos manter esta seleção de caracterísitcias para seleção do melhor algoritmo para identificação do **POI**.\n",
    "\n",
    "Para uma visão geral das caracteristicas disponíveis, vamos gerar um matrix de correlações."
   ]
  },
  {
   "cell_type": "code",
   "execution_count": 22,
   "metadata": {},
   "outputs": [
    {
     "data": {
      "text/plain": [
       "<matplotlib.axes._subplots.AxesSubplot at 0x11ba36590>"
      ]
     },
     "execution_count": 22,
     "metadata": {},
     "output_type": "execute_result"
    },
    {
     "data": {
      "image/png": "[encoded data removed]",
      "text/plain": [
       "<Figure size 1008x720 with 2 Axes>"
      ]
     },
     "metadata": {},
     "output_type": "display_data"
    }
   ],
   "source": [
    "enron_df = pd.DataFrame.from_dict(data_dict, orient = 'index')\n",
    "enron_df.replace('NaN', np.nan, inplace = True)\n",
    "corr = enron_df[best_features].corr()\n",
    "\n",
    "fig, ax = plt.subplots(figsize=(14,10)) \n",
    "sns.heatmap(corr, \n",
    "            xticklabels=corr.columns.values,\n",
    "            yticklabels=corr.columns.values, \n",
    "            ax=ax)\n"
   ]
  },
  {
   "cell_type": "markdown",
   "metadata": {},
   "source": [
    "## Escolha e Afinamento de um Algorítmo\n",
    "\n",
    "Como parte do processo da escolha do melhor algoritimo de classificação, iniciarei com a lista  original de características do conjunto de dados e as selecionadas pelos SelectKBest nos algoritimos com parametros padrões, sem pre processamento, para uma idéia do comportamento dos algoritimos escolhidos antes de um _tuning_ para busca dos melhores resultados. Os algoritmos escolhidos foram:\n",
    "\n",
    "- Naive Bayes \n",
    "- Decision Tree\n",
    "- KMeans\n",
    "- SVM\n",
    "\n",
    "Utilizarei a método *test_classifier* do `tester.py` para avaliar o resultado de cadas um dos classificadores.\n",
    "\n",
    "Para avaliarmos o melhor algoritmo, utilizaremos a precisão, recall e o f1 score. Abaixo o uma pequena introdução a estes conceitos:\n",
    "\n",
    "#### Precisão\n",
    "\n",
    "É o percentual de verdadeiros positivos quando comparado com todos os resultados positivos encontrados pelo algoritimo\n",
    "\n",
    "```\n",
    "precisão=verdadeiros positivos / (verdadeiro positivos + falsos positivos)\n",
    "```\n",
    "\n",
    "#### Recall\n",
    "\n",
    "É o percentual de verdadeiros positivos quando comparado com todos os reais positivos no conjunto de dados, incluindo aqueles apontados como negativos pelo algoritimo.\n",
    "\n",
    "```\n",
    "recall=verdadeiros positivos / (verdadeiros positivos + falsos negativos)\n",
    "```\n",
    "\n",
    "#### F1 Score\n",
    "\n",
    "É uma metrica combinada da precisão e do recall\n",
    "```\n",
    "F1 Score=2 (precisão x recall) / (precisão+recall)\n",
    "```"
   ]
  },
  {
   "cell_type": "code",
   "execution_count": 23,
   "metadata": {},
   "outputs": [
    {
     "name": "stdout",
     "output_type": "stream",
     "text": [
      "===== Naive Bayes =====\n",
      "----- Todas as features -----\n",
      "GaussianNB(priors=None)\n",
      "\tAccuracy: 0.76353\tPrecision: 0.24564\tRecall: 0.37350\tF1: 0.29637\tF2: 0.33828\n",
      "\tTotal predictions: 15000\tTrue positives:  747\tFalse positives: 2294\tFalse negatives: 1253\tTrue negatives: 10706\n",
      "\n",
      "Tempo de execucao 2.54097700119 seg\n",
      "----- Features selecionadas -----\n",
      "GaussianNB(priors=None)\n",
      "\tAccuracy: 0.84940\tPrecision: 0.41981\tRecall: 0.33900\tF1: 0.37510\tF2: 0.35257\n",
      "\tTotal predictions: 15000\tTrue positives:  678\tFalse positives:  937\tFalse negatives: 1322\tTrue negatives: 12063\n",
      "\n",
      "Tempo de execucao 2.16269302368 seg\n"
     ]
    }
   ],
   "source": [
    "from sklearn.naive_bayes import GaussianNB\n",
    "from sklearn.tree import DecisionTreeClassifier\n",
    "from sklearn.svm import SVC\n",
    "from sklearn.cluster import KMeans\n",
    "from sklearn.ensemble import AdaBoostClassifier\n",
    "import time\n",
    "import datetime\n",
    "\n",
    "\n",
    "# Create and test the Gaussian Naive Bayes Classifier\n",
    "clf = GaussianNB()\n",
    "print \"===== Naive Bayes =====\"\n",
    "\n",
    "print \"----- Todas as features -----\"\n",
    "\n",
    "start_time = time.time()\n",
    "test_classifier(clf, data_dict, features_list)\n",
    "end_time = time.time()\n",
    "\n",
    "uptime = end_time - start_time\n",
    "print \"Tempo de execucao {} seg\".format(uptime)\n",
    "\n",
    "print \"----- Features selecionadas -----\"\n",
    "\n",
    "\n",
    "start_time = time.time()\n",
    "test_classifier(clf, data_dict, best_features)\n",
    "end_time = time.time()\n",
    "\n",
    "uptime = end_time - start_time\n",
    "print \"Tempo de execucao {} seg\".format(uptime)"
   ]
  },
  {
   "cell_type": "markdown",
   "metadata": {},
   "source": [
    "Acima comparamos o resultado de um dos algoritimos (Naive Bayes) com as todas as features originais e com as features selecionadas pelo `SelectKBest`. Utilizamos as opções padrões do Naive Bayes nesta comparação.\n",
    "\n",
    "|Features|Acuracia|Precisao|Recall|\n",
    "|---|--|--|--|\n",
    "|Todas|0.76353|0.24564|0.37350|\n",
    "|Selecionadas|0.84940|0.41981|0.33900|\n",
    "\n",
    "É possível notar uma pequena melhora quando utilizei apenas as caracteristicas selecionadas.\n",
    "\n",
    "A seguir executarei os outros algoritmos com as feautres selecionadas"
   ]
  },
  {
   "cell_type": "code",
   "execution_count": 24,
   "metadata": {},
   "outputs": [
    {
     "name": "stdout",
     "output_type": "stream",
     "text": [
      "===== Decisions Trees =====\n",
      "DecisionTreeClassifier(class_weight=None, criterion='gini', max_depth=None,\n",
      "            max_features=None, max_leaf_nodes=None,\n",
      "            min_impurity_decrease=0.0, min_impurity_split=None,\n",
      "            min_samples_leaf=1, min_samples_split=2,\n",
      "            min_weight_fraction_leaf=0.0, presort=False, random_state=None,\n",
      "            splitter='best')\n",
      "\tAccuracy: 0.79740\tPrecision: 0.22957\tRecall: 0.22050\tF1: 0.22494\tF2: 0.22226\n",
      "\tTotal predictions: 15000\tTrue positives:  441\tFalse positives: 1480\tFalse negatives: 1559\tTrue negatives: 11520\n",
      "\n",
      "Tempo de execucao 2.12328195572 seg\n"
     ]
    }
   ],
   "source": [
    "clf = DecisionTreeClassifier()\n",
    "print \"===== Decisions Trees =====\"\n",
    "start_time = time.time()\n",
    "test_classifier(clf, data_dict, features_list)\n",
    "end_time = time.time()\n",
    "\n",
    "uptime = end_time - start_time\n",
    "print \"Tempo de execucao {} seg\".format(uptime)"
   ]
  },
  {
   "cell_type": "code",
   "execution_count": 25,
   "metadata": {},
   "outputs": [
    {
     "name": "stdout",
     "output_type": "stream",
     "text": [
      "===== K-Means =====\n",
      "KMeans(algorithm='auto', copy_x=True, init='k-means++', max_iter=300,\n",
      "    n_clusters=2, n_init=10, n_jobs=1, precompute_distances='auto',\n",
      "    random_state=None, tol=0.0001, verbose=0)\n",
      "\tAccuracy: 0.83340\tPrecision: 0.21289\tRecall: 0.09250\tF1: 0.12896\tF2: 0.10430\n",
      "\tTotal predictions: 15000\tTrue positives:  185\tFalse positives:  684\tFalse negatives: 1815\tTrue negatives: 12316\n",
      "\n",
      "Tempo de execucao 22.8626818657 seg\n"
     ]
    }
   ],
   "source": [
    "clf = KMeans(n_clusters=2)\n",
    "print \"===== K-Means =====\"\n",
    "start_time = time.time()\n",
    "test_classifier(clf, data_dict, features_list)\n",
    "end_time = time.time()\n",
    "\n",
    "uptime = end_time - start_time\n",
    "print \"Tempo de execucao {} seg\".format(uptime)"
   ]
  },
  {
   "cell_type": "code",
   "execution_count": 26,
   "metadata": {},
   "outputs": [
    {
     "name": "stdout",
     "output_type": "stream",
     "text": [
      "===== SVM =====\n",
      "Got a divide by zero when trying out: SVC(C=1.0, cache_size=200, class_weight=None, coef0=0.0,\n",
      "  decision_function_shape='ovr', degree=3, gamma='auto', kernel='rbf',\n",
      "  max_iter=-1, probability=False, random_state=None, shrinking=True,\n",
      "  tol=0.001, verbose=False)\n",
      "Precision or recall may be undefined due to a lack of true positive predicitons.\n",
      "Tempo de execucao 2.28000593185 seg\n"
     ]
    }
   ],
   "source": [
    "clf = SVC()\n",
    "print \"===== SVM =====\"\n",
    "start_time = time.time()\n",
    "test_classifier(clf, data_dict, best_features)\n",
    "end_time = time.time()\n",
    "\n",
    "uptime = end_time - start_time\n",
    "print \"Tempo de execucao {} seg\".format(uptime)"
   ]
  },
  {
   "cell_type": "markdown",
   "metadata": {},
   "source": [
    "Podemos observar os seguintes resultados, conforme apresentado na saída do método *test_classifier*:\n",
    "\n",
    "| Classificador| Precisão  | Recall | Acuracia | F1   |\n",
    "|--------------|-----------|---|---|---|\n",
    "| Naive Bayes | 0.24564|0.37350|0.76353|0.29637|\n",
    "| Decision Tree | 0.22658| 0.21650|0.79700 | 0.22143 |\n",
    "| KMeans |0.23458 | 0.08750 |0.84027 |0.12746| \n",
    "| SVM* | | | ||\n",
    "\n",
    "> \\*O método SVM não gerou resultados com os parametros padrões por falta de predições verdadeiras positivas: <u style=\"color:red\">_Precision or recall may be undefined due to a lack of true positive predicitons._</u>\n",
    "\n",
    "O próximo passo é utilizarmos as _features_ selecionadas pelo método _SelectKBest_ com os classificadores selecionados"
   ]
  },
  {
   "cell_type": "code",
   "execution_count": 27,
   "metadata": {},
   "outputs": [
    {
     "name": "stdout",
     "output_type": "stream",
     "text": [
      "===== Decisions Trees =====\n",
      "DecisionTreeClassifier(class_weight=None, criterion='gini', max_depth=None,\n",
      "            max_features=None, max_leaf_nodes=None,\n",
      "            min_impurity_decrease=0.0, min_impurity_split=None,\n",
      "            min_samples_leaf=1, min_samples_split=2,\n",
      "            min_weight_fraction_leaf=0.0, presort=False, random_state=None,\n",
      "            splitter='best')\n",
      "\tAccuracy: 0.80013\tPrecision: 0.26682\tRecall: 0.28550\tF1: 0.27585\tF2: 0.28156\n",
      "\tTotal predictions: 15000\tTrue positives:  571\tFalse positives: 1569\tFalse negatives: 1429\tTrue negatives: 11431\n",
      "\n",
      "Tempo de execucao 2.21025419235 seg\n"
     ]
    }
   ],
   "source": [
    "clf = DecisionTreeClassifier()\n",
    "print \"===== Decisions Trees =====\"\n",
    "start_time = time.time()\n",
    "test_classifier(clf, data_dict, best_features)\n",
    "end_time = time.time()\n",
    "\n",
    "uptime = end_time - start_time\n",
    "print \"Tempo de execucao {} seg\".format(uptime)"
   ]
  },
  {
   "cell_type": "markdown",
   "metadata": {},
   "source": [
    "| Classificador| Precisão  | Recall | Acuracia | F1   |\n",
    "|--------------|-----------|---|---|---|\n",
    "| Naive Bayes - Todas _features_ | 0.24564|0.37350|0.76353|0.29637|\n",
    "| Naive Bayes - _Features selecionadas_ | 0.26608|0.2855|0.79973|0.27545|"
   ]
  },
  {
   "cell_type": "markdown",
   "metadata": {},
   "source": [
    "## Tuning\n",
    "\n",
    "Nesta etapa vou trabalhar nos algoritmos escolhidos em busca de identificarmos aquele que nos dará maior precisão na predição. Nesta etapa também será feito um pré-processamento com a normalização dos dados (scalling) e PCA.\n",
    "\n",
    "Para trabalharmos com os algortimos selecionados farei uso de _Pipeline_ pra elencar o pré-processamento e execução do algoritmo e do _GridSearchCV_ para identificar os melhores parametros pra execução do algoritimo.\n",
    "\n",
    "Os algortimitos utilizados e as opções utilizadas no _GridSearchCV_ podem ser encontrados no arquivo `classification.py`.\n",
    "\n",
    "### Validação\n",
    "\n",
    "No pipelina usado será considerada uma etapa de validação usando o método _StratifiedKFold_, como pode ser visto no método `run_classifier` do sript `classification.py`\n",
    "\n",
    "A validação busca resolver problemas na definição das separação dos dados de treinamento e teste, uma vez que a parte de dados usada para treinar o algoritimo é perdida na execução na base de teste. Ela consiste em se realizar uma série de execuções do algoritmo com variações entre os dados de treinamento e testes, evitando assim que um sobreajuste do nosso algoritimo.\n",
    "\n",
    "Embora a validação traga um aumento no tempo de execução dos algoritimos, temos como vantagem um melhora no precisão dos mesmos."
   ]
  },
  {
   "cell_type": "code",
   "execution_count": 28,
   "metadata": {},
   "outputs": [
    {
     "name": "stdout",
     "output_type": "stream",
     "text": [
      "===== Decision Trees =====\n",
      "Pipeline(memory=None,\n",
      "     steps=[('scaler', StandardScaler(copy=True, with_mean=True, with_std=True)), ('selector', SelectKBest(k=8, score_func=<function f_classif at 0x11ac63a28>)), ('reducer', PCA(copy=True, iterated_power='auto', n_components=1, random_state=42,\n",
      "  svd_solver='auto', tol=0.0, whiten=False)), ('classifier',...        min_weight_fraction_leaf=0.0, presort=False, random_state=42,\n",
      "            splitter='best'))])\n",
      "\tAccuracy: 0.76987\tPrecision: 0.28106\tRecall: 0.46600\tF1: 0.35064\tF2: 0.41181\n",
      "\tTotal predictions: 15000\tTrue positives:  932\tFalse positives: 2384\tFalse negatives: 1068\tTrue negatives: 10616\n",
      "\n"
     ]
    },
    {
     "data": {
      "text/plain": [
       "(Pipeline(memory=None,\n",
       "      steps=[('scaler', StandardScaler(copy=True, with_mean=True, with_std=True)), ('selector', SelectKBest(k=8, score_func=<function f_classif at 0x11ac63a28>)), ('reducer', PCA(copy=True, iterated_power='auto', n_components=1, random_state=42,\n",
       "   svd_solver='auto', tol=0.0, whiten=False)), ('classifier',...        min_weight_fraction_leaf=0.0, presort=False, random_state=42,\n",
       "             splitter='best'))]),\n",
       " {'classifier__class_weight': 'balanced',\n",
       "  'classifier__criterion': 'gini',\n",
       "  'classifier__max_features': 'sqrt',\n",
       "  'classifier__min_samples_split': 8,\n",
       "  'classifier__splitter': 'best',\n",
       "  'reducer__n_components': 1,\n",
       "  'selector__k': 8})"
      ]
     },
     "execution_count": 28,
     "metadata": {},
     "output_type": "execute_result"
    }
   ],
   "source": [
    "cl.decision_tree_classifier(data_dict, best_features, [3, 4, 5, 7, 8, 10])"
   ]
  },
  {
   "cell_type": "code",
   "execution_count": 29,
   "metadata": {},
   "outputs": [
    {
     "name": "stdout",
     "output_type": "stream",
     "text": [
      "===== Decision Trees =====\n",
      "Pipeline(memory=None,\n",
      "     steps=[('scaler', StandardScaler(copy=True, with_mean=True, with_std=True)), ('selector', SelectKBest(k=5, score_func=<function f_classif at 0x11ac63a28>)), ('reducer', PCA(copy=True, iterated_power='auto', n_components=1, random_state=42,\n",
      "  svd_solver='auto', tol=0.0, whiten=False)), ('classifier',...      min_weight_fraction_leaf=0.0, presort=False, random_state=42,\n",
      "            splitter='random'))])\n",
      "\tAccuracy: 0.74227\tPrecision: 0.29165\tRecall: 0.65300\tF1: 0.40321\tF2: 0.52332\n",
      "\tTotal predictions: 15000\tTrue positives: 1306\tFalse positives: 3172\tFalse negatives:  694\tTrue negatives: 9828\n",
      "\n"
     ]
    },
    {
     "data": {
      "text/plain": [
       "(Pipeline(memory=None,\n",
       "      steps=[('scaler', StandardScaler(copy=True, with_mean=True, with_std=True)), ('selector', SelectKBest(k=5, score_func=<function f_classif at 0x11ac63a28>)), ('reducer', PCA(copy=True, iterated_power='auto', n_components=1, random_state=42,\n",
       "   svd_solver='auto', tol=0.0, whiten=False)), ('classifier',...      min_weight_fraction_leaf=0.0, presort=False, random_state=42,\n",
       "             splitter='random'))]),\n",
       " {'classifier__class_weight': 'balanced',\n",
       "  'classifier__criterion': 'gini',\n",
       "  'classifier__max_features': 'sqrt',\n",
       "  'classifier__min_samples_split': 6,\n",
       "  'classifier__splitter': 'random',\n",
       "  'reducer__n_components': 1,\n",
       "  'selector__k': 5})"
      ]
     },
     "execution_count": 29,
     "metadata": {},
     "output_type": "execute_result"
    }
   ],
   "source": [
    "cl.decision_tree_classifier(data_dict, best_features)"
   ]
  },
  {
   "cell_type": "markdown",
   "metadata": {},
   "source": [
    "Durante a execução dos algoritmos notei um comportamento inesperado. Embora o _GridSearchCV_ esteja preparado para utilizar o _F1 Score_ para definição dos melhores parametros para execução, notamos no resultado dos algorimos acima que isto não ocorreu para o _Decision Tree_.\n",
    "\n",
    "Neste caso o parametro utilizado foi a acurácia.\n",
    "\n",
    "Abaixo o método de execução do classificador. Note o paramento `scoring=f1` no _GridSearchCV_:\n",
    "\n",
    "```python\n",
    "def run_classifier(pipe, params, dataset, feature_list):\n",
    "    cv_split = StratifiedKFold(n_splits=5, shuffle=True, random_state=42)\n",
    "\n",
    "    tree_grid = GridSearchCV(pipe, params, scoring='f1', cv=cv_split)\n",
    "\n",
    "    data = featureFormat(dataset, feature_list, sort_keys=True)\n",
    "    labels, features = targetFeatureSplit(data)\n",
    "\n",
    "    tree_grid.fit(features, labels)\n",
    "\n",
    "    test_classifier(tree_grid.best_estimator_, dataset, feature_list)\n",
    "\n",
    "    return tree_grid.best_estimator_, tree_grid.best_params_\n",
    "\n",
    "```\n",
    "O mesmo ocorreu com o SVM. Por conta desse comportamento decidi manter um relação reduzida de valores de **K**. "
   ]
  },
  {
   "cell_type": "code",
   "execution_count": 30,
   "metadata": {
    "scrolled": true
   },
   "outputs": [
    {
     "name": "stdout",
     "output_type": "stream",
     "text": [
      "===== Naive Bayes =====\n",
      "Pipeline(memory=None,\n",
      "     steps=[('scaler', StandardScaler(copy=True, with_mean=True, with_std=True)), ('selector', SelectKBest(k=10, score_func=<function f_classif at 0x11ac63a28>)), ('reducer', PCA(copy=True, iterated_power='auto', n_components=2, random_state=42,\n",
      "  svd_solver='auto', tol=0.0, whiten=False)), ('classifier', GaussianNB(priors=None))])\n",
      "\tAccuracy: 0.86140\tPrecision: 0.47354\tRecall: 0.35350\tF1: 0.40481\tF2: 0.37238\n",
      "\tTotal predictions: 15000\tTrue positives:  707\tFalse positives:  786\tFalse negatives: 1293\tTrue negatives: 12214\n",
      "\n",
      "{'reducer__n_components': 2, 'selector__k': 10, 'scaler': StandardScaler(copy=True, with_mean=True, with_std=True)}\n"
     ]
    },
    {
     "data": {
      "text/plain": [
       "(Pipeline(memory=None,\n",
       "      steps=[('scaler', StandardScaler(copy=True, with_mean=True, with_std=True)), ('selector', SelectKBest(k=10, score_func=<function f_classif at 0x11ac63a28>)), ('reducer', PCA(copy=True, iterated_power='auto', n_components=2, random_state=42,\n",
       "   svd_solver='auto', tol=0.0, whiten=False)), ('classifier', GaussianNB(priors=None))]),\n",
       " {'reducer__n_components': 2,\n",
       "  'scaler': StandardScaler(copy=True, with_mean=True, with_std=True),\n",
       "  'selector__k': 10})"
      ]
     },
     "execution_count": 30,
     "metadata": {},
     "output_type": "execute_result"
    }
   ],
   "source": [
    "cl.naive_bayes_classifier(data_dict, best_features)"
   ]
  },
  {
   "cell_type": "code",
   "execution_count": 31,
   "metadata": {},
   "outputs": [
    {
     "name": "stdout",
     "output_type": "stream",
     "text": [
      "===== SVM =====\n",
      "Pipeline(memory=None,\n",
      "     steps=[('scaler', StandardScaler(copy=True, with_mean=True, with_std=True)), ('selector', SelectKBest(k=10, score_func=<function f_classif at 0x11ac63a28>)), ('reducer', PCA(copy=True, iterated_power='auto', n_components=1, random_state=42,\n",
      "  svd_solver='auto', tol=0.0, whiten=False)), ('classifier'...d',\n",
      "  max_iter=-1, probability=False, random_state=42, shrinking=True,\n",
      "  tol=0.001, verbose=False))])\n",
      "\tAccuracy: 0.79193\tPrecision: 0.32523\tRecall: 0.52150\tF1: 0.40061\tF2: 0.46533\n",
      "\tTotal predictions: 15000\tTrue positives: 1043\tFalse positives: 2164\tFalse negatives:  957\tTrue negatives: 10836\n",
      "\n"
     ]
    },
    {
     "data": {
      "text/plain": [
       "(Pipeline(memory=None,\n",
       "      steps=[('scaler', StandardScaler(copy=True, with_mean=True, with_std=True)), ('selector', SelectKBest(k=10, score_func=<function f_classif at 0x11ac63a28>)), ('reducer', PCA(copy=True, iterated_power='auto', n_components=1, random_state=42,\n",
       "   svd_solver='auto', tol=0.0, whiten=False)), ('classifier'...d',\n",
       "   max_iter=-1, probability=False, random_state=42, shrinking=True,\n",
       "   tol=0.001, verbose=False))]),\n",
       " {'classifier__C': 100,\n",
       "  'classifier__class_weight': 'balanced',\n",
       "  'classifier__gamma': 0.05,\n",
       "  'classifier__kernel': 'sigmoid',\n",
       "  'reducer__n_components': 1,\n",
       "  'scaler': StandardScaler(copy=True, with_mean=True, with_std=True),\n",
       "  'selector__k': 10})"
      ]
     },
     "execution_count": 31,
     "metadata": {},
     "output_type": "execute_result"
    }
   ],
   "source": [
    "cl.svm_classifier(data_dict, best_features)"
   ]
  },
  {
   "cell_type": "markdown",
   "metadata": {},
   "source": [
    "Para efeito de comparação, executarei os algoritmos acima também com as características escolhidas a partir das _features_ originais, sem considerar as criadas durante este trabalho."
   ]
  },
  {
   "cell_type": "code",
   "execution_count": 32,
   "metadata": {},
   "outputs": [
    {
     "name": "stdout",
     "output_type": "stream",
     "text": [
      "===== Naive Bayes =====\n",
      "Pipeline(memory=None,\n",
      "     steps=[('scaler', StandardScaler(copy=True, with_mean=True, with_std=True)), ('selector', SelectKBest(k=4, score_func=<function f_classif at 0x11ac63a28>)), ('reducer', PCA(copy=True, iterated_power='auto', n_components=2, random_state=42,\n",
      "  svd_solver='auto', tol=0.0, whiten=False)), ('classifier', GaussianNB(priors=None))])\n",
      "\tAccuracy: 0.85640\tPrecision: 0.43689\tRecall: 0.26650\tF1: 0.33106\tF2: 0.28905\n",
      "\tTotal predictions: 15000\tTrue positives:  533\tFalse positives:  687\tFalse negatives: 1467\tTrue negatives: 12313\n",
      "\n",
      "{'reducer__n_components': 2, 'selector__k': 4, 'scaler': StandardScaler(copy=True, with_mean=True, with_std=True)}\n"
     ]
    },
    {
     "data": {
      "text/plain": [
       "(Pipeline(memory=None,\n",
       "      steps=[('scaler', StandardScaler(copy=True, with_mean=True, with_std=True)), ('selector', SelectKBest(k=4, score_func=<function f_classif at 0x11ac63a28>)), ('reducer', PCA(copy=True, iterated_power='auto', n_components=2, random_state=42,\n",
       "   svd_solver='auto', tol=0.0, whiten=False)), ('classifier', GaussianNB(priors=None))]),\n",
       " {'reducer__n_components': 2,\n",
       "  'scaler': StandardScaler(copy=True, with_mean=True, with_std=True),\n",
       "  'selector__k': 4})"
      ]
     },
     "execution_count": 32,
     "metadata": {},
     "output_type": "execute_result"
    }
   ],
   "source": [
    "cl.naive_bayes_classifier(data_dict, best_features_original)"
   ]
  },
  {
   "cell_type": "code",
   "execution_count": 33,
   "metadata": {},
   "outputs": [
    {
     "name": "stdout",
     "output_type": "stream",
     "text": [
      "===== Decision Trees =====\n",
      "Pipeline(memory=None,\n",
      "     steps=[('scaler', StandardScaler(copy=True, with_mean=True, with_std=True)), ('selector', SelectKBest(k=4, score_func=<function f_classif at 0x11ac63a28>)), ('reducer', PCA(copy=True, iterated_power='auto', n_components=3, random_state=42,\n",
      "  svd_solver='auto', tol=0.0, whiten=False)), ('classifier',...        min_weight_fraction_leaf=0.0, presort=False, random_state=42,\n",
      "            splitter='best'))])\n",
      "\tAccuracy: 0.74993\tPrecision: 0.23494\tRecall: 0.38800\tF1: 0.29266\tF2: 0.34327\n",
      "\tTotal predictions: 15000\tTrue positives:  776\tFalse positives: 2527\tFalse negatives: 1224\tTrue negatives: 10473\n",
      "\n"
     ]
    },
    {
     "data": {
      "text/plain": [
       "(Pipeline(memory=None,\n",
       "      steps=[('scaler', StandardScaler(copy=True, with_mean=True, with_std=True)), ('selector', SelectKBest(k=4, score_func=<function f_classif at 0x11ac63a28>)), ('reducer', PCA(copy=True, iterated_power='auto', n_components=3, random_state=42,\n",
       "   svd_solver='auto', tol=0.0, whiten=False)), ('classifier',...        min_weight_fraction_leaf=0.0, presort=False, random_state=42,\n",
       "             splitter='best'))]),\n",
       " {'classifier__class_weight': 'balanced',\n",
       "  'classifier__criterion': 'entropy',\n",
       "  'classifier__max_features': 'sqrt',\n",
       "  'classifier__min_samples_split': 8,\n",
       "  'classifier__splitter': 'best',\n",
       "  'reducer__n_components': 3,\n",
       "  'selector__k': 4})"
      ]
     },
     "execution_count": 33,
     "metadata": {},
     "output_type": "execute_result"
    }
   ],
   "source": [
    "cl.decision_tree_classifier(data_dict, best_features_original)"
   ]
  },
  {
   "cell_type": "code",
   "execution_count": null,
   "metadata": {},
   "outputs": [
    {
     "name": "stdout",
     "output_type": "stream",
     "text": [
      "===== SVM =====\n"
     ]
    }
   ],
   "source": [
    "cl.svm_classifier(data_dict, best_features_original)"
   ]
  },
  {
   "cell_type": "markdown",
   "metadata": {},
   "source": [
    "Podemos perceber através do _F1 Score_ que, para todos os algoritmos executados, a execução sem as novas _features_ tiveram um resultado pior."
   ]
  },
  {
   "cell_type": "code",
   "execution_count": null,
   "metadata": {},
   "outputs": [],
   "source": [
    "data    = {'Features originais': [0.29266, 0.35230,  0.33106] , \n",
    "           'Com novas features': [0.40321, 0.40061, 0.40481]}\n",
    "indices = ['Decision Tree', 'SVM', 'Naive Bayes']\n",
    "\n",
    "df_features = pd.DataFrame(data, index=indices)\n",
    "\n",
    "df_features.plot.bar();"
   ]
  },
  {
   "cell_type": "markdown",
   "metadata": {},
   "source": [
    "## Conclusão\n",
    "\n",
    "Em todos os algoritmos conseguimos um **recall** acima de 0.3, no entanto para o algoritimo de _Decision Trees_ tivemos um **precisão** inferior, 0.29165, o que faz que ele seja descartado como algortimo escolhido, mesmo sendo este o algoritimo com maior **recall**: 0.65300.\n",
    "\n",
    "|Algoritimo|Precisão|Recall|F1|\n",
    "|-|-|-|-|\n",
    "|Decision Tree | 0.29165 | 0.65300 | 0.40321 |\n",
    "|SVM | 0.32523 | 0.52150 | 0.40061 |\n",
    "|Naive Bayes |0.47354 |0.35350 |0.40481 |\n",
    "\n",
    "É interessante notar que o SVM, que teve tanto o **recall** quanto a **precisão** acima do valor de corte (0.3), teve um **F1 score** inferior ao do _Decisison Tree_. No caso, os 3 algoritmos tiveram um F1 score bem próximo.\n",
    "\n",
    "O _Decision Tree_ apresentou um bom recall de 0.65300, mas uma precisão inferior aos 0.3, objetivo deste trabalho. Isso ocorreu pelo alto número de falsos positivos. Isso traria um problema uma vez que apontaria como 'culpados' muitos dos funcionários que não estavam relacionados ao escandalo da Enron.\n",
    "\n",
    "### Algoritmo escolhido\n",
    "\n",
    "No final, o algoritimo escolhido foi o Naive Bayes que teve um **F1** de 0.40481, apesar de ter apresentado um recall de apenas 0.3535. Abaixo todos os dados para o algoritimo selecionado:\n",
    "\n",
    "|Indicador|Valor|\n",
    "|-|-|\n",
    "|Acurácia|0.86140 |\n",
    "|Precisão|0.47354 |\n",
    "|Recall|0.35350 |\n",
    "|F1|0.40481|\n",
    "|No de predições| 15000|\n",
    "|Verdadeiros positivos|707 |\n",
    "|Falsos positivos|786 |\n",
    "|Verdadeiros negativos| 1293|\n",
    "|Falsos negativos|12214 |\n",
    " "
   ]
  },
  {
   "cell_type": "code",
   "execution_count": null,
   "metadata": {},
   "outputs": [],
   "source": []
  }
 ],
 "metadata": {
  "kernelspec": {
   "display_name": "Python 2",
   "language": "python",
   "name": "python2"
  },
  "language_info": {
   "codemirror_mode": {
    "name": "ipython",
    "version": 2
   },
   "file_extension": ".py",
   "mimetype": "text/x-python",
   "name": "python",
   "nbconvert_exporter": "python",
   "pygments_lexer": "ipython2",
   "version": "2.7.15"
  }
 },
 "nbformat": 4,
 "nbformat_minor": 2
}
